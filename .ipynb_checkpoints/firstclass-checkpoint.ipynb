{
 "cells": [
  {
   "cell_type": "code",
   "execution_count": 6,
   "metadata": {},
   "outputs": [
    {
     "name": "stdout",
     "output_type": "stream",
     "text": [
      "enter a number0\n",
      "given number is zero\n"
     ]
    }
   ],
   "source": [
    "a=int(input(\"enter a number\"))\n",
    "if a<0:\n",
    "    print(\"given number is negative\")\n",
    "elif a>0:\n",
    "    print(\"given number is positive\")\n",
    "else:\n",
    "     print(\"given number is zero\")\n",
    "    "
   ]
  },
  {
   "cell_type": "code",
   "execution_count": 10,
   "metadata": {},
   "outputs": [
    {
     "name": "stdout",
     "output_type": "stream",
     "text": [
      "enter a choice2\n",
      "enter money in dollars12\n",
      " given dollars converted into rupees is equal to  840 rupees\n"
     ]
    }
   ],
   "source": [
    "n= int(input(\"enter a choice\"))\n",
    "if n==1:\n",
    "    r=int(input(\"enter money in rupees\"))\n",
    "    print(\" given rupees converted into dollars is equal to\",r/70,\"dollars\")\n",
    "elif n==2:\n",
    "    d=int(input(\"enter money in dollars\"))\n",
    "    print(\" given dollars converted into rupees is equal to \",d*70,\"rupees\")\n",
    "else: \n",
    "    print(\"invalid choice\")"
   ]
  },
  {
   "cell_type": "markdown",
   "metadata": {},
   "source": [
    "# jayakeerthi"
   ]
  },
  {
   "cell_type": "code",
   "execution_count": 12,
   "metadata": {},
   "outputs": [
    {
     "name": "stdout",
     "output_type": "stream",
     "text": [
      "67 is present\n"
     ]
    }
   ],
   "source": [
    "lst=[1,2,3,4,67]\n",
    "if 67 in lst:\n",
    "    print(\"67 is present\")\n",
    "    "
   ]
  },
  {
   "cell_type": "code",
   "execution_count": 43,
   "metadata": {},
   "outputs": [
    {
     "name": "stdout",
     "output_type": "stream",
     "text": [
      "enter the year2096\n",
      "it is a leap year\n"
     ]
    }
   ],
   "source": [
    "y=int(input(\"enter the year\"))\n",
    "if y%4==0 and y%100==0:\n",
    "    if y%400==0:\n",
    "        print(\"it is a leap year\")\n",
    "    else:\n",
    "        print(\"not a leap year\")\n",
    "elif y%4==0:\n",
    "    print(\"it is a leap year\")\n",
    "else :\n",
    "    print(\"it is not a leap year\")\n",
    "\n",
    "    \n"
   ]
  },
  {
   "cell_type": "code",
   "execution_count": 44,
   "metadata": {},
   "outputs": [
    {
     "name": "stdout",
     "output_type": "stream",
     "text": [
      "enter an year2100\n",
      "not a leap year\n"
     ]
    }
   ],
   "source": [
    "y= int(input(\"enter an year\"))\n",
    "if y%4==0 and (y%100!=0 or y%400==0):\n",
    "    print(\"a leap year\")\n",
    "else:\n",
    "    print(\"not a leap year\")"
   ]
  },
  {
   "cell_type": "code",
   "execution_count": null,
   "metadata": {},
   "outputs": [],
   "source": []
  }
 ],
 "metadata": {
  "kernelspec": {
   "display_name": "Python 3",
   "language": "python",
   "name": "python3"
  },
  "language_info": {
   "codemirror_mode": {
    "name": "ipython",
    "version": 3
   },
   "file_extension": ".py",
   "mimetype": "text/x-python",
   "name": "python",
   "nbconvert_exporter": "python",
   "pygments_lexer": "ipython3",
   "version": "3.7.1"
  }
 },
 "nbformat": 4,
 "nbformat_minor": 2
}
