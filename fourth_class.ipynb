{
 "cells": [
  {
   "cell_type": "markdown",
   "metadata": {},
   "source": [
    "# string slicing"
   ]
  },
  {
   "cell_type": "code",
   "execution_count": 3,
   "metadata": {},
   "outputs": [
    {
     "name": "stdout",
     "output_type": "stream",
     "text": [
      "python programming\n",
      "6\n",
      " programming\n",
      "yhnpormig\n",
      "pto rgamn\n"
     ]
    }
   ],
   "source": [
    "s=\"python programming\"\n",
    "print(s[0:])\n",
    "p=s.index(\" \")\n",
    "#for i in range(len(s)):\n",
    "#    if(s[i].ispace()):\n",
    "#        p=i\n",
    "print(p)\n",
    "print(s[p:])\n",
    "print(s[1::2])\n",
    "print(s[0::2])"
   ]
  },
  {
   "cell_type": "markdown",
   "metadata": {},
   "source": [
    "# reverse of a string"
   ]
  },
  {
   "cell_type": "code",
   "execution_count": 9,
   "metadata": {},
   "outputs": [
    {
     "name": "stdout",
     "output_type": "stream",
     "text": [
      "gnimmargorp nohtyp\n"
     ]
    }
   ],
   "source": [
    "l=-(len(s))\n",
    "#for i in range(-1,l+1,-1):\n",
    "   # print(s[i])\n",
    "print(s[::-1])    "
   ]
  },
  {
   "cell_type": "code",
   "execution_count": 11,
   "metadata": {},
   "outputs": [
    {
     "name": "stdout",
     "output_type": "stream",
     "text": [
      "pallindrome\n"
     ]
    }
   ],
   "source": [
    "n=\"10201\"\n",
    "reverse=n[::-1]\n",
    "if(n==reverse):\n",
    "    print(\"pallindrome\")"
   ]
  },
  {
   "cell_type": "markdown",
   "metadata": {},
   "source": [
    "# sorting"
   ]
  },
  {
   "cell_type": "code",
   "execution_count": 15,
   "metadata": {},
   "outputs": [
    {
     "name": "stdout",
     "output_type": "stream",
     "text": [
      "enter databdt821\n",
      "bdt128\n"
     ]
    }
   ],
   "source": [
    "s= input(\"enter data\")\n",
    "alpha=[]\n",
    "num=[]\n",
    "for i in range(len(s)):\n",
    "    if(s[i].isalpha()):\n",
    "        alpha.append(s[i])\n",
    "    if(s[i].isnumeric()):\n",
    "        num.append(s[i])\n",
    "alpha=sorted(alpha)\n",
    "num=sorted(num)\n",
    "sorted_alpha_list=\"\".join(alpha)\n",
    "sorted_num_list=\"\".join(num)\n",
    "data=sorted_alpha_list+sorted_num_list\n",
    "print(data)        \n"
   ]
  },
  {
   "cell_type": "markdown",
   "metadata": {},
   "source": [
    "# task"
   ]
  },
  {
   "cell_type": "code",
   "execution_count": 4,
   "metadata": {},
   "outputs": [
    {
     "name": "stdout",
     "output_type": "stream",
     "text": [
      "cse4ece3civ2mec1\n",
      "csecsecsecse\n",
      "eceeceece\n",
      "civciv\n",
      "mec\n"
     ]
    }
   ],
   "source": [
    "s=input()\n",
    "data=\"\"\n",
    "for i in range(len(s)):\n",
    "    if(s[i].isalpha()):\n",
    "        data=data+s[i]\n",
    "    if(s[i].isnumeric()):\n",
    "        print(data*int(s[i]))\n",
    "        data=\"\""
   ]
  },
  {
   "cell_type": "code",
   "execution_count": 27,
   "metadata": {},
   "outputs": [
    {
     "name": "stdout",
     "output_type": "stream",
     "text": [
      "enter datacs eece mec civ it\n",
      "even position data\n",
      "sc ecee cem vic ti \n",
      " odd position data sc ecee cem vic ti "
     ]
    }
   ],
   "source": [
    "data=input(\"enter data\")\n",
    "data=data.split()\n",
    "#print(i)\n",
    "print(\"even position data\")\n",
    "for i in range(len(data)):\n",
    "    if(i%2==0):\n",
    "        print(data[i][::-1],end=\" \")\n",
    "    else:\n",
    "        print(data[i][::-1],end=\" \")\n",
    "print(\"\\n odd position data\",end=\" \" )\n",
    "for i in range (len(data)):\n",
    "    if(i%2==1):\n",
    "        print(data[i][::-1],end=\" \")\n",
    "    else:\n",
    "        print(data[i][::-1],end=\" \")\n",
    "#print(\"\\nall reverse\")\n",
    "#for i in data:\n",
    "    #print(data[i][::-1],end=\" \")\n",
    "    \n"
   ]
  },
  {
   "cell_type": "code",
   "execution_count": 16,
   "metadata": {},
   "outputs": [
    {
     "name": "stdout",
     "output_type": "stream",
     "text": [
      "enter stringpython\n",
      "pppppp\n",
      "yyyyy\n",
      "tttt\n",
      "hhh\n",
      "oo\n",
      "n\n"
     ]
    }
   ],
   "source": [
    "s=input(\"enter string\")\n",
    "n=len(s)\n",
    "for i in range(0,len(s)):\n",
    "    \n",
    "    print(s[i]*n)\n",
    "    n-=1"
   ]
  },
  {
   "cell_type": "markdown",
   "metadata": {},
   "source": [
    "###  freqency of each character\n"
   ]
  },
  {
   "cell_type": "code",
   "execution_count": 12,
   "metadata": {},
   "outputs": [
    {
     "name": "stdout",
     "output_type": "stream",
     "text": [
      "h ---> 3\n",
      "b ---> 3\n",
      "a ---> 5\n",
      "t ---> 2\n"
     ]
    }
   ],
   "source": [
    "s=\"aaaaabbbhhhtt\"\n",
    "d=list(s)\n",
    "n=set(s)\n",
    "for ch in n:\n",
    "    print(ch,\"--->\",d.count(ch))"
   ]
  },
  {
   "cell_type": "code",
   "execution_count": 12,
   "metadata": {},
   "outputs": [
    {
     "name": "stdout",
     "output_type": "stream",
     "text": [
      "enter dataq3a2\n",
      "q\n",
      "3\n",
      "6\n",
      "a\n",
      "2\n",
      "64\n"
     ]
    }
   ],
   "source": [
    "s=input(\"enter data\")\n",
    "a=0\n",
    "d=''\n",
    "for i in range(len(s)):\n",
    "    if(s[i].isalpha):\n",
    "        print(s[i])\n",
    "        a=ord (s[i])\n",
    "        #s[i]=0\n",
    "    if(s[i].isnumeric()):\n",
    "        d=d+chr(a+int(s[i]))\n",
    "        print(d)"
   ]
  },
  {
   "cell_type": "code",
   "execution_count": 4,
   "metadata": {},
   "outputs": [
    {
     "data": {
      "text/plain": [
       "113"
      ]
     },
     "execution_count": 4,
     "metadata": {},
     "output_type": "execute_result"
    }
   ],
   "source": [
    "a=ord(\"q\")\n",
    "a"
   ]
  },
  {
   "cell_type": "code",
   "execution_count": 13,
   "metadata": {},
   "outputs": [
    {
     "data": {
      "text/plain": [
       "'@'"
      ]
     },
     "execution_count": 13,
     "metadata": {},
     "output_type": "execute_result"
    }
   ],
   "source": [
    "chr(64)"
   ]
  },
  {
   "cell_type": "markdown",
   "metadata": {},
   "source": [
    "# list"
   ]
  },
  {
   "cell_type": "code",
   "execution_count": 1,
   "metadata": {},
   "outputs": [
    {
     "name": "stdout",
     "output_type": "stream",
     "text": [
      "['__add__', '__class__', '__contains__', '__delattr__', '__delitem__', '__dir__', '__doc__', '__eq__', '__format__', '__ge__', '__getattribute__', '__getitem__', '__gt__', '__hash__', '__iadd__', '__imul__', '__init__', '__init_subclass__', '__iter__', '__le__', '__len__', '__lt__', '__mul__', '__ne__', '__new__', '__reduce__', '__reduce_ex__', '__repr__', '__reversed__', '__rmul__', '__setattr__', '__setitem__', '__sizeof__', '__str__', '__subclasshook__', 'append', 'clear', 'copy', 'count', 'extend', 'index', 'insert', 'pop', 'remove', 'reverse', 'sort']\n"
     ]
    }
   ],
   "source": [
    "print(dir(list))"
   ]
  },
  {
   "cell_type": "code",
   "execution_count": 2,
   "metadata": {},
   "outputs": [
    {
     "name": "stdout",
     "output_type": "stream",
     "text": [
      "['__add__', '__class__', '__contains__', '__delattr__', '__dir__', '__doc__', '__eq__', '__format__', '__ge__', '__getattribute__', '__getitem__', '__getnewargs__', '__gt__', '__hash__', '__init__', '__init_subclass__', '__iter__', '__le__', '__len__', '__lt__', '__mul__', '__ne__', '__new__', '__reduce__', '__reduce_ex__', '__repr__', '__rmul__', '__setattr__', '__sizeof__', '__str__', '__subclasshook__', 'count', 'index']\n"
     ]
    }
   ],
   "source": [
    "print(dir(tuple))"
   ]
  },
  {
   "cell_type": "code",
   "execution_count": 22,
   "metadata": {},
   "outputs": [
    {
     "name": "stdout",
     "output_type": "stream",
     "text": [
      "5\n",
      "[6, 12, 16, 17, 45, 58]\n"
     ]
    },
    {
     "ename": "TypeError",
     "evalue": "can only concatenate list (not \"int\") to list",
     "output_type": "error",
     "traceback": [
      "\u001b[1;31m---------------------------------------------------------------------------\u001b[0m",
      "\u001b[1;31mTypeError\u001b[0m                                 Traceback (most recent call last)",
      "\u001b[1;32m<ipython-input-22-4340a83871c8>\u001b[0m in \u001b[0;36m<module>\u001b[1;34m\u001b[0m\n\u001b[0;32m      7\u001b[0m \u001b[0mr_li\u001b[0m\u001b[1;33m.\u001b[0m\u001b[0msort\u001b[0m\u001b[1;33m(\u001b[0m\u001b[1;33m)\u001b[0m\u001b[1;33m\u001b[0m\u001b[1;33m\u001b[0m\u001b[0m\n\u001b[0;32m      8\u001b[0m \u001b[0mprint\u001b[0m\u001b[1;33m(\u001b[0m\u001b[0mr_li\u001b[0m\u001b[1;33m)\u001b[0m\u001b[1;33m\u001b[0m\u001b[1;33m\u001b[0m\u001b[0m\n\u001b[1;32m----> 9\u001b[1;33m \u001b[0md\u001b[0m\u001b[1;33m=\u001b[0m\u001b[0ml_li\u001b[0m\u001b[1;33m+\u001b[0m\u001b[0mli\u001b[0m\u001b[1;33m[\u001b[0m\u001b[0mm\u001b[0m\u001b[1;33m]\u001b[0m\u001b[1;33m+\u001b[0m\u001b[0mr_li\u001b[0m\u001b[1;33m\u001b[0m\u001b[1;33m\u001b[0m\u001b[0m\n\u001b[0m\u001b[0;32m     10\u001b[0m \u001b[1;31m#d.insert(m,li(m))\u001b[0m\u001b[1;33m\u001b[0m\u001b[1;33m\u001b[0m\u001b[1;33m\u001b[0m\u001b[0m\n\u001b[0;32m     11\u001b[0m \u001b[0mprint\u001b[0m\u001b[1;33m(\u001b[0m\u001b[0md\u001b[0m\u001b[1;33m)\u001b[0m\u001b[1;33m\u001b[0m\u001b[1;33m\u001b[0m\u001b[0m\n",
      "\u001b[1;31mTypeError\u001b[0m: can only concatenate list (not \"int\") to list"
     ]
    }
   ],
   "source": [
    "li=[78,25,7,9,4,1,5,6,45,58,12,16,17]\n",
    "#d=[]\n",
    "m=len(li)//2\n",
    "print(li[m])\n",
    "l_li=li[:m]\n",
    "r_li=li[m+1:]\n",
    "r_li.sort()\n",
    "print(r_li)\n",
    "#d=l_li+li[m]+r_li\n",
    "#d.insert(m,li(m))\n",
    "print(d)\n",
    "#d.insert(m,li(m))"
   ]
  },
  {
   "cell_type": "code",
   "execution_count": 24,
   "metadata": {},
   "outputs": [
    {
     "name": "stdout",
     "output_type": "stream",
     "text": [
      "5\n",
      "[6, 12, 16, 17, 45, 58]\n"
     ]
    },
    {
     "ename": "TypeError",
     "evalue": "'list' object is not callable",
     "output_type": "error",
     "traceback": [
      "\u001b[1;31m---------------------------------------------------------------------------\u001b[0m",
      "\u001b[1;31mTypeError\u001b[0m                                 Traceback (most recent call last)",
      "\u001b[1;32m<ipython-input-24-412ce38d042c>\u001b[0m in \u001b[0;36m<module>\u001b[1;34m\u001b[0m\n\u001b[0;32m      8\u001b[0m \u001b[0mprint\u001b[0m\u001b[1;33m(\u001b[0m\u001b[0mr_li\u001b[0m\u001b[1;33m)\u001b[0m\u001b[1;33m\u001b[0m\u001b[1;33m\u001b[0m\u001b[0m\n\u001b[0;32m      9\u001b[0m \u001b[1;31m#d=l_li+li[m]+r_li\u001b[0m\u001b[1;33m\u001b[0m\u001b[1;33m\u001b[0m\u001b[1;33m\u001b[0m\u001b[0m\n\u001b[1;32m---> 10\u001b[1;33m \u001b[0md\u001b[0m\u001b[1;33m.\u001b[0m\u001b[0minsert\u001b[0m\u001b[1;33m(\u001b[0m\u001b[0mm\u001b[0m\u001b[1;33m,\u001b[0m\u001b[0mli\u001b[0m\u001b[1;33m(\u001b[0m\u001b[0mm\u001b[0m\u001b[1;33m)\u001b[0m\u001b[1;33m)\u001b[0m\u001b[1;33m\u001b[0m\u001b[1;33m\u001b[0m\u001b[0m\n\u001b[0m\u001b[0;32m     11\u001b[0m \u001b[0mprint\u001b[0m\u001b[1;33m(\u001b[0m\u001b[0md\u001b[0m\u001b[1;33m)\u001b[0m\u001b[1;33m\u001b[0m\u001b[1;33m\u001b[0m\u001b[0m\n\u001b[0;32m     12\u001b[0m \u001b[1;31m#d.insert(m,li(m))\u001b[0m\u001b[1;33m\u001b[0m\u001b[1;33m\u001b[0m\u001b[1;33m\u001b[0m\u001b[0m\n",
      "\u001b[1;31mTypeError\u001b[0m: 'list' object is not callable"
     ]
    }
   ],
   "source": [
    "li=[78,25,7,9,4,1,5,6,45,58,12,16,17]\n",
    "#d=[]\n",
    "m=len(li)//2\n",
    "print(li[m])\n",
    "l_li=li[:m]\n",
    "r_li=li[m+1:]\n",
    "r_li.sort()\n",
    "print(r_li)\n",
    "#d=l_li+li[m]+r_li\n",
    "d.insert(m,li(m))\n",
    "print(d)\n",
    "#d.insert(m,li(m))                                                                  "
   ]
  },
  {
   "cell_type": "code",
   "execution_count": null,
   "metadata": {},
   "outputs": [],
   "source": []
  },
  {
   "cell_type": "code",
   "execution_count": null,
   "metadata": {},
   "outputs": [],
   "source": []
  }
 ],
 "metadata": {
  "kernelspec": {
   "display_name": "Python 3",
   "language": "python",
   "name": "python3"
  },
  "language_info": {
   "codemirror_mode": {
    "name": "ipython",
    "version": 3
   },
   "file_extension": ".py",
   "mimetype": "text/x-python",
   "name": "python",
   "nbconvert_exporter": "python",
   "pygments_lexer": "ipython3",
   "version": "3.7.1"
  }
 },
 "nbformat": 4,
 "nbformat_minor": 2
}
