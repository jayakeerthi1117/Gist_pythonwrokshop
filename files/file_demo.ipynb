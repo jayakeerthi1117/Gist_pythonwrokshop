{
 "cells": [
  {
   "cell_type": "code",
   "execution_count": 2,
   "metadata": {},
   "outputs": [
    {
     "name": "stdout",
     "output_type": "stream",
     "text": [
      "jayakeerthi\n",
      "supraja\n",
      "sai mounika\n",
      "sri varsha\n",
      "bharathi\n"
     ]
    }
   ],
   "source": [
    "filepath='demo.txt'\n",
    "file_data=open(filepath)\n",
    "#data=open('demo.txt')\n",
    "data=file_data.read()\n",
    "print(data)\n",
    "file_data.close()"
   ]
  },
  {
   "cell_type": "code",
   "execution_count": 3,
   "metadata": {},
   "outputs": [
    {
     "name": "stdout",
     "output_type": "stream",
     "text": [
      "enter your datahello mummy....\n",
      "data stored sucessfully\n"
     ]
    }
   ],
   "source": [
    "file_path='insert_data.txt'\n",
    "with open(file_path,'w') as f:\n",
    "    data=input(\"enter your data\")\n",
    "    f.write(data)\n",
    "    print(\"data stored sucessfully\")"
   ]
  },
  {
   "cell_type": "code",
   "execution_count": 4,
   "metadata": {},
   "outputs": [
    {
     "name": "stdout",
     "output_type": "stream",
     "text": [
      "hello mummy....\n"
     ]
    }
   ],
   "source": [
    "with open(file_path,'r') as f:\n",
    "    data=f.read()\n",
    "    print(data)"
   ]
  },
  {
   "cell_type": "code",
   "execution_count": null,
   "metadata": {},
   "outputs": [],
   "source": []
  }
 ],
 "metadata": {
  "kernelspec": {
   "display_name": "Python 3",
   "language": "python",
   "name": "python3"
  },
  "language_info": {
   "codemirror_mode": {
    "name": "ipython",
    "version": 3
   },
   "file_extension": ".py",
   "mimetype": "text/x-python",
   "name": "python",
   "nbconvert_exporter": "python",
   "pygments_lexer": "ipython3",
   "version": "3.7.1"
  }
 },
 "nbformat": 4,
 "nbformat_minor": 2
}
