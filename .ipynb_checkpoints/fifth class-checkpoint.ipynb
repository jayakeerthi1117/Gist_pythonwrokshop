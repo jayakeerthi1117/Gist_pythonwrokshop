{
 "cells": [
  {
   "cell_type": "code",
   "execution_count": 1,
   "metadata": {},
   "outputs": [
    {
     "name": "stdout",
     "output_type": "stream",
     "text": [
      "['__class__', '__contains__', '__delattr__', '__delitem__', '__dir__', '__doc__', '__eq__', '__format__', '__ge__', '__getattribute__', '__getitem__', '__gt__', '__hash__', '__init__', '__init_subclass__', '__iter__', '__le__', '__len__', '__lt__', '__ne__', '__new__', '__reduce__', '__reduce_ex__', '__repr__', '__setattr__', '__setitem__', '__sizeof__', '__str__', '__subclasshook__', 'clear', 'copy', 'fromkeys', 'get', 'items', 'keys', 'pop', 'popitem', 'setdefault', 'update', 'values']\n"
     ]
    }
   ],
   "source": [
    "print(dir(dict))"
   ]
  },
  {
   "cell_type": "code",
   "execution_count": 3,
   "metadata": {},
   "outputs": [
    {
     "data": {
      "text/plain": [
       "{'j': None, 'r': None, 'k': None}"
      ]
     },
     "execution_count": 3,
     "metadata": {},
     "output_type": "execute_result"
    }
   ],
   "source": [
    "keys={'j','k','r'}\n",
    "dict3={}\n",
    "dict3.fromkeys(keys)"
   ]
  },
  {
   "cell_type": "code",
   "execution_count": 5,
   "metadata": {},
   "outputs": [],
   "source": [
    "dict1={\"name\":\"jayakeerthi\",\"roll\":\"5a5\"}"
   ]
  },
  {
   "cell_type": "markdown",
   "metadata": {},
   "source": [
    "# freqency of element"
   ]
  },
  {
   "cell_type": "code",
   "execution_count": 7,
   "metadata": {},
   "outputs": [
    {
     "name": "stdout",
     "output_type": "stream",
     "text": [
      "enter stringAAAghjj\n",
      "{'g': 1, 'h': 1, 'j': 2, 'A': 3}\n",
      "\n",
      "{1: 'h', 2: 'j', 3: 'A'}\n",
      "3\n",
      "A\n"
     ]
    }
   ],
   "source": [
    "s=input(\"enter string\")\n",
    "o_l=list(s)\n",
    "d_l=set(o_l)\n",
    "freq_data1={}\n",
    "freq_data2={}\n",
    "for key in d_l:\n",
    "    freq_data1[key]=o_l.count(key)\n",
    "print(freq_data1)\n",
    "for key in d_l:\n",
    "    freq_data2[o_l.count(key)]=key\n",
    "print()\n",
    "print(freq_data2)\n",
    "key_list=list(freq_data2.keys())\n",
    "value_list=list(freq_data2.keys())\n",
    "m=max(key_list)\n",
    "print(m)\n",
    "for key,value in freq_data2.items():\n",
    "    if(m==key):\n",
    "        print(value)"
   ]
  },
  {
   "cell_type": "code",
   "execution_count": 34,
   "metadata": {},
   "outputs": [
    {
     "name": "stdout",
     "output_type": "stream",
     "text": [
      "contact saved successfully\n"
     ]
    }
   ],
   "source": [
    " contact={}\n",
    "def add_contact(name,phno):\n",
    "        if(name in contact.keys()):\n",
    "            print(name,\"contact already exists...!!\")\n",
    "        else:\n",
    "            contact[name]=phno\n",
    "            print(\"contact saved successfully\")\n",
    "add_contact(\"keerthi\",987654321)"
   ]
  },
  {
   "cell_type": "code",
   "execution_count": 12,
   "metadata": {},
   "outputs": [
    {
     "name": "stdout",
     "output_type": "stream",
     "text": [
      "keerthi contact already exists...!!\n"
     ]
    }
   ],
   "source": [
    "add_contact(\"keerthi\",987654321)"
   ]
  },
  {
   "cell_type": "code",
   "execution_count": 37,
   "metadata": {},
   "outputs": [
    {
     "name": "stdout",
     "output_type": "stream",
     "text": [
      "1 name keerthi phno= 123456789\n"
     ]
    }
   ],
   "source": [
    "def display_contact():\n",
    "    i=0\n",
    "    if(i<len(contact)):\n",
    "        for name,phone in contact.items():\n",
    "            print(i+1,\"name\",name,\"phno=\",phone)\n",
    "            if(i>len(contact)):\n",
    "                break\n",
    "                i=i+1\n",
    "display_contact()            "
   ]
  },
  {
   "cell_type": "code",
   "execution_count": 31,
   "metadata": {},
   "outputs": [
    {
     "name": "stdout",
     "output_type": "stream",
     "text": [
      "contact deleted\n"
     ]
    }
   ],
   "source": [
    "def delete_contact(name):\n",
    "    if name in contact.keys():\n",
    "        contact.popitem()\n",
    "        print(\"contact deleted\")\n",
    "    else:\n",
    "        print(name,\"contact doesnt exist\")\n",
    "delete_contact(\"keerthi\")    "
   ]
  },
  {
   "cell_type": "code",
   "execution_count": 40,
   "metadata": {},
   "outputs": [],
   "source": [
    "def update_contact(name,phno):\n",
    "    if name in contact.keys():\n",
    "        contact.update({name:phno})\n",
    "        print(\"updated sucessfully\")\n",
    "    else:\n",
    "        print(\"contact doesnt exist\")"
   ]
  },
  {
   "cell_type": "code",
   "execution_count": 41,
   "metadata": {},
   "outputs": [
    {
     "name": "stdout",
     "output_type": "stream",
     "text": [
      "updated sucessfully\n"
     ]
    }
   ],
   "source": [
    "update_contact(\"keerthi\",123456789)"
   ]
  },
  {
   "cell_type": "code",
   "execution_count": 38,
   "metadata": {},
   "outputs": [],
   "source": [
    "def search_contact(name):\n",
    "    \n",
    "    if name in contact.keys():\n",
    "        print(name,\"existed\")\n",
    "        display_contact()\n",
    "    else:\n",
    "        print(name,\"doesn exist\")"
   ]
  },
  {
   "cell_type": "code",
   "execution_count": 39,
   "metadata": {},
   "outputs": [
    {
     "name": "stdout",
     "output_type": "stream",
     "text": [
      "keerthi existed\n",
      "1 name keerthi phno= 123456789\n"
     ]
    }
   ],
   "source": [
    "search_contact(\"keerthi\")"
   ]
  },
  {
   "cell_type": "code",
   "execution_count": 42,
   "metadata": {},
   "outputs": [],
   "source": [
    "def search_contact(phno):\n",
    "    if phno in contact.values():\n",
    "        print(phno,\"existed\")\n",
    "        display_contact()\n",
    "    else:\n",
    "        print(phno,\"doesn exist\")"
   ]
  },
  {
   "cell_type": "code",
   "execution_count": 43,
   "metadata": {},
   "outputs": [
    {
     "name": "stdout",
     "output_type": "stream",
     "text": [
      "123456789 existed\n",
      "1 name keerthi phno= 123456789\n"
     ]
    }
   ],
   "source": [
    "search_contact(123456789)"
   ]
  },
  {
   "cell_type": "markdown",
   "metadata": {},
   "source": [
    "# files"
   ]
  },
  {
   "cell_type": "code",
   "execution_count": null,
   "metadata": {},
   "outputs": [],
   "source": []
  },
  {
   "cell_type": "code",
   "execution_count": null,
   "metadata": {},
   "outputs": [],
   "source": []
  }
 ],
 "metadata": {
  "kernelspec": {
   "display_name": "Python 3",
   "language": "python",
   "name": "python3"
  },
  "language_info": {
   "codemirror_mode": {
    "name": "ipython",
    "version": 3
   },
   "file_extension": ".py",
   "mimetype": "text/x-python",
   "name": "python",
   "nbconvert_exporter": "python",
   "pygments_lexer": "ipython3",
   "version": "3.7.1"
  }
 },
 "nbformat": 4,
 "nbformat_minor": 2
}
