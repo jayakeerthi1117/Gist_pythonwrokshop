{
 "cells": [
  {
   "cell_type": "markdown",
   "metadata": {},
   "source": [
    "# string slicing"
   ]
  },
  {
   "cell_type": "code",
   "execution_count": 3,
   "metadata": {},
   "outputs": [
    {
     "name": "stdout",
     "output_type": "stream",
     "text": [
      "python programming\n",
      "6\n",
      " programming\n",
      "yhnpormig\n",
      "pto rgamn\n"
     ]
    }
   ],
   "source": [
    "s=\"python programming\"\n",
    "print(s[0:])\n",
    "p=s.index(\" \")\n",
    "#for i in range(len(s)):\n",
    "#    if(s[i].ispace()):\n",
    "#        p=i\n",
    "print(p)\n",
    "print(s[p:])\n",
    "print(s[1::2])\n",
    "print(s[0::2])"
   ]
  },
  {
   "cell_type": "markdown",
   "metadata": {},
   "source": [
    "# reverse of a string"
   ]
  },
  {
   "cell_type": "code",
   "execution_count": 9,
   "metadata": {},
   "outputs": [
    {
     "name": "stdout",
     "output_type": "stream",
     "text": [
      "gnimmargorp nohtyp\n"
     ]
    }
   ],
   "source": [
    "l=-(len(s))\n",
    "#for i in range(-1,l+1,-1):\n",
    "   # print(s[i])\n",
    "print(s[::-1])    "
   ]
  },
  {
   "cell_type": "code",
   "execution_count": 11,
   "metadata": {},
   "outputs": [
    {
     "name": "stdout",
     "output_type": "stream",
     "text": [
      "pallindrome\n"
     ]
    }
   ],
   "source": [
    "n=\"10201\"\n",
    "reverse=n[::-1]\n",
    "if(n==reverse):\n",
    "    print(\"pallindrome\")"
   ]
  },
  {
   "cell_type": "markdown",
   "metadata": {},
   "source": [
    "# sorting"
   ]
  },
  {
   "cell_type": "code",
   "execution_count": 15,
   "metadata": {},
   "outputs": [
    {
     "name": "stdout",
     "output_type": "stream",
     "text": [
      "enter databdt821\n",
      "bdt128\n"
     ]
    }
   ],
   "source": [
    "s= input(\"enter data\")\n",
    "alpha=[]\n",
    "num=[]\n",
    "for i in range(len(s)):\n",
    "    if(s[i].isalpha()):\n",
    "        alpha.append(s[i])\n",
    "    if(s[i].isnumeric()):\n",
    "        num.append(s[i])\n",
    "alpha=sorted(alpha)\n",
    "num=sorted(num)\n",
    "sorted_alpha_list=\"\".join(alpha)\n",
    "sorted_num_list=\"\".join(num)\n",
    "data=sorted_alpha_list+sorted_num_list\n",
    "print(data)        \n"
   ]
  },
  {
   "cell_type": "markdown",
   "metadata": {},
   "source": [
    "# task"
   ]
  },
  {
   "cell_type": "code",
   "execution_count": 4,
   "metadata": {},
   "outputs": [
    {
     "name": "stdout",
     "output_type": "stream",
     "text": [
      "cse4ece3civ2mec1\n",
      "csecsecsecse\n",
      "eceeceece\n",
      "civciv\n",
      "mec\n"
     ]
    }
   ],
   "source": [
    "s=input()\n",
    "data=\"\"\n",
    "for i in range(len(s)):\n",
    "    if(s[i].isalpha()):\n",
    "        data=data+s[i]\n",
    "    if(s[i].isnumeric()):\n",
    "        print(data*int(s[i]))\n",
    "        data=\"\""
   ]
  },
  {
   "cell_type": "code",
   "execution_count": 27,
   "metadata": {},
   "outputs": [
    {
     "name": "stdout",
     "output_type": "stream",
     "text": [
      "enter datacs eece mec civ it\n",
      "even position data\n",
      "sc ecee cem vic ti \n",
      " odd position data sc ecee cem vic ti "
     ]
    }
   ],
   "source": [
    "data=input(\"enter data\")\n",
    "data=data.split()\n",
    "#print(i)\n",
    "print(\"even position data\")\n",
    "for i in range(len(data)):\n",
    "    if(i%2==0):\n",
    "        print(data[i][::-1],end=\" \")\n",
    "    else:\n",
    "        print(data[i][::-1],end=\" \")\n",
    "print(\"\\n odd position data\",end=\" \" )\n",
    "for i in range (len(data)):\n",
    "    if(i%2==1):\n",
    "        print(data[i][::-1],end=\" \")\n",
    "    else:\n",
    "        print(data[i][::-1],end=\" \")\n",
    "#print(\"\\nall reverse\")\n",
    "#for i in data:\n",
    "    #print(data[i][::-1],end=\" \")\n",
    "    \n"
   ]
  },
  {
   "cell_type": "code",
   "execution_count": 16,
   "metadata": {},
   "outputs": [
    {
     "name": "stdout",
     "output_type": "stream",
     "text": [
      "enter stringpython\n",
      "pppppp\n",
      "yyyyy\n",
      "tttt\n",
      "hhh\n",
      "oo\n",
      "n\n"
     ]
    }
   ],
   "source": [
    "s=input(\"enter string\")\n",
    "n=len(s)\n",
    "for i in range(0,len(s)):\n",
    "    \n",
    "    print(s[i]*n)\n",
    "    n-=1"
   ]
  },
  {
   "cell_type": "markdown",
   "metadata": {},
   "source": [
    "###  freqency of each character\n"
   ]
  },
  {
   "cell_type": "code",
   "execution_count": 12,
   "metadata": {},
   "outputs": [
    {
     "name": "stdout",
     "output_type": "stream",
     "text": [
      "h ---> 3\n",
      "b ---> 3\n",
      "a ---> 5\n",
      "t ---> 2\n"
     ]
    }
   ],
   "source": [
    "s=\"aaaaabbbhhhtt\"\n",
    "d=list(s)\n",
    "n=set(s)\n",
    "for ch in n:\n",
    "    print(ch,\"--->\",d.count(ch))"
   ]
  },
  {
   "cell_type": "code",
   "execution_count": null,
   "metadata": {},
   "outputs": [],
   "source": [
    "s=input(\"enter data\")\n",
    "a=0\n",
    "for i in range(len(s)):\n",
    "    if(s[i].isalpha):\n",
    "        a=ord(s[i])\n",
    "        print(s[i])\n",
    "    if(s[i].isnumeric()):\n",
    "        print(chr(a+int(s[i])))"
   ]
  },
  {
   "cell_type": "code",
   "execution_count": 4,
   "metadata": {},
   "outputs": [
    {
     "data": {
      "text/plain": [
       "113"
      ]
     },
     "execution_count": 4,
     "metadata": {},
     "output_type": "execute_result"
    }
   ],
   "source": [
    "a=ord(\"q\")\n",
    "a"
   ]
  },
  {
   "cell_type": "code",
   "execution_count": 5,
   "metadata": {},
   "outputs": [
    {
     "data": {
      "text/plain": [
       "'s'"
      ]
     },
     "execution_count": 5,
     "metadata": {},
     "output_type": "execute_result"
    }
   ],
   "source": [
    "chr(113+2)"
   ]
  },
  {
   "cell_type": "code",
   "execution_count": null,
   "metadata": {},
   "outputs": [],
   "source": []
  }
 ],
 "metadata": {
  "kernelspec": {
   "display_name": "Python 3",
   "language": "python",
   "name": "python3"
  },
  "language_info": {
   "codemirror_mode": {
    "name": "ipython",
    "version": 3
   },
   "file_extension": ".py",
   "mimetype": "text/x-python",
   "name": "python",
   "nbconvert_exporter": "python",
   "pygments_lexer": "ipython3",
   "version": "3.7.1"
  }
 },
 "nbformat": 4,
 "nbformat_minor": 2
}
